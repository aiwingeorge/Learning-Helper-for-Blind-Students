{
 "cells": [
  {
   "cell_type": "markdown",
   "metadata": {},
   "source": [
    "AIM : The aim of this project is to build a model for Learning Class 12 English especially for Blind students."
   ]
  },
  {
   "cell_type": "markdown",
   "metadata": {},
   "source": [
    "ABOUT : This model asks for the input page num to read, recognizes the page number and reads it. Either the user can ask to read the whole book or ask to read a single page number"
   ]
  },
  {
   "cell_type": "code",
   "execution_count": 1,
   "metadata": {},
   "outputs": [],
   "source": [
    "import fitz  # PyMuPDF\n",
    "import pytesseract\n",
    "import pyttsx3\n",
    "from PIL import Image\n",
    "import speech_recognition as sr"
   ]
  },
  {
   "cell_type": "code",
   "execution_count": 2,
   "metadata": {},
   "outputs": [],
   "source": [
    "pytesseract.pytesseract.tesseract_cmd=r\"C:\\Program Files\\Tesseract-OCR\\tesseract.exe\""
   ]
  },
  {
   "cell_type": "code",
   "execution_count": 3,
   "metadata": {},
   "outputs": [],
   "source": [
    "pdf_file_path=r'--PDF Path--'"
   ]
  },
  {
   "cell_type": "code",
   "execution_count": 4,
   "metadata": {},
   "outputs": [],
   "source": [
    "# Function to perform OCR on an image\n",
    "def perform_ocr(image):\n",
    "    # Convert image to text using pytesseract\n",
    "    text=pytesseract.image_to_string(image)\n",
    "    return text\n",
    "\n",
    "# To open the PDF file using PyMuPDF\n",
    "pdf_document=fitz.open(pdf_file_path)"
   ]
  },
  {
   "cell_type": "code",
   "execution_count": 5,
   "metadata": {},
   "outputs": [],
   "source": [
    "text_speech=pyttsx3.init()"
   ]
  },
  {
   "cell_type": "code",
   "execution_count": 6,
   "metadata": {},
   "outputs": [
    {
     "name": "stdout",
     "output_type": "stream",
     "text": [
      "You Said :  33\n",
      "Page 33:\n",
      "Unit | - Flights of Freedom\n",
      "\n",
      "Activity VI (Review)\n",
      "[) Prepare a review of the film which influenced you the most.\n",
      "\n",
      "{Hints : theme, screenplay, cast and credit, music,\n",
      "cinematography, etc.}\n",
      "\n",
      "Activity VII (Let's edit)\n",
      "(|) Given below is the opening paragraph of a review prepared by a\n",
      "student of class XII. There are a few errors in it. Identify them\n",
      "and refine the paragraph.\n",
      "\n",
      "(Hint- The errors are in the following areas : Spelling,\n",
      "Tenses, Punctuation, Word order, Article, Concord,\n",
      "Preposition)\n",
      "\n",
      "Gone with the wind\n",
      "\n",
      "One of the classic film that define american cinema, Gone\n",
      "With the Wind is the rare example of a collaboration involving\n",
      "hundred of talents that turned out great. For millions of\n",
      "people, Gone With the Wind have helped to define the myth\n",
      "and reality of the country's most tragic period of history -\n",
      "the civil war and reconstruction. The popularity about\n",
      "Margaret Mitchell's bestselling novel allowed the filmmaker\n",
      "to be confident of its sucess. Of course, requisite attention\n",
      "to costumes and sets was paid. The film's visual effects -\n",
      "especially the burning of Atlanta- are in deed effective and\n",
      "memorable.\n",
      "\n",
      "Gone With the Wind deserves the label epic it present\n",
      "enough detail to be a facsimile on reality.\n",
      "\n",
      "Activity VIII (Project)\n",
      "() Prepare a class magazine including stories, poems, anecdotes,\n",
      "reviews of prose and poems, etc.\n",
      "\n",
      "OR\n",
      "\n",
      "Organise a Film Festival on women. Include films with strong\n",
      "women characters and films by women film makers.\n",
      "\n",
      "Prepare a report of the Film Festival for your school magazine.\n",
      "\n",
      "33\n",
      "\n",
      "— ;\n",
      "\n",
      "========================================\n",
      "\n"
     ]
    }
   ],
   "source": [
    "# To get the number of pages in the PDF\n",
    "num_pages=pdf_document.page_count\n",
    "\n",
    "# To ask the user the page number they want to read\n",
    "r=sr.Recognizer()\n",
    "mic=sr.Microphone()\n",
    "while True:\n",
    "    with mic as source:\n",
    "        text_speech.say('Lets learn Class 12 English Today. Say the page number to read or Say 0 to read all the pages')\n",
    "        text_speech.runAndWait()\n",
    "        audio=r.listen(source)\n",
    "\n",
    "        try:\n",
    "            text=r.recognize_google(audio)\n",
    "            print('You Said : ',text)\n",
    "            text_speech.say('You Said : ',text)\n",
    "            text_speech.runAndWait()\n",
    "\n",
    "            page_num=int(text)-1\n",
    "\n",
    "            break\n",
    "\n",
    "        except sr.UnknownValueError:\n",
    "            print(\"Didn't hear anything, please repeat\")\n",
    "            text_speech.say(\"Didn't hear anything, please repeat\")\n",
    "            text_speech.runAndWait()\n",
    "\n",
    "        except ValueError:\n",
    "            print(\"Please say a page number\")\n",
    "            text_speech.say(\"Please say a page number\")\n",
    "            text_speech.runAndWait()\n",
    "\n",
    "\n",
    "if 0 <= page_num < num_pages:\n",
    "    # Get the specified page\n",
    "    page=pdf_document[page_num]\n",
    "    \n",
    "    # Convert the PDF page to an image using PIL\n",
    "    image=page.get_pixmap(matrix=fitz.Matrix(300/72, 300/72))\n",
    "    image_pil=Image.frombytes(\"RGB\", [image.width, image.height], image.samples)\n",
    "    \n",
    "    # Perform OCR on the selected page's image\n",
    "    page_text=perform_ocr(image_pil)\n",
    "    \n",
    "    # Print the extracted text from the selected page\n",
    "    print(f\"Page {page_num + 1}:\\n{page_text}\\n{'=' * 40}\\n\")\n",
    "\n",
    "    text_speech.say(page_text)\n",
    "    text_speech.runAndWait()\n",
    "\n",
    "elif page_num==-1:\n",
    "    for page_num in range(pdf_document.page_count):\n",
    "        page=pdf_document[page_num]\n",
    "        # Convert the PDF page to an image using PIL\n",
    "        image=page.get_pixmap(matrix=fitz.Matrix(300/72, 300/72))\n",
    "        image_pil=Image.frombytes(\"RGB\", [image.width, image.height], image.samples)\n",
    "    \n",
    "        # Perform OCR on the current page's image\n",
    "        page_text=perform_ocr(image_pil)\n",
    "    \n",
    "        # Print the extracted text from the current page\n",
    "        print(f\"Page {page_num + 1}:\\n{page_text}\\n{'=' * 40}\\n\")\n",
    "\n",
    "        text_speech.say(page_text)\n",
    "        text_speech.runAndWait()\n",
    "       \n",
    "else:\n",
    "    print(\"Invalid page number.\")\n",
    "\n",
    "    text_speech.say('Invalid page number')\n",
    "    text_speech.runAndWait()\n",
    "\n",
    "# Close the PDF document\n",
    "pdf_document.close()"
   ]
  }
 ],
 "metadata": {
  "kernelspec": {
   "display_name": "Python 3",
   "language": "python",
   "name": "python3"
  },
  "language_info": {
   "codemirror_mode": {
    "name": "ipython",
    "version": 3
   },
   "file_extension": ".py",
   "mimetype": "text/x-python",
   "name": "python",
   "nbconvert_exporter": "python",
   "pygments_lexer": "ipython3",
   "version": "3.11.2"
  },
  "orig_nbformat": 4
 },
 "nbformat": 4,
 "nbformat_minor": 2
}
